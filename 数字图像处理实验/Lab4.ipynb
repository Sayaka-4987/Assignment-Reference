{
 "cells": [
  {
   "cell_type": "markdown",
   "id": "bfc9e3af",
   "metadata": {},
   "source": [
    "# 数字图像处理实验4：二维码识别"
   ]
  },
  {
   "cell_type": "markdown",
   "id": "ffe83e9b",
   "metadata": {},
   "source": [
    "成员：19281171王雨潇，19301153潘雪菲"
   ]
  },
  {
   "cell_type": "markdown",
   "id": "09e86211",
   "metadata": {},
   "source": [
    "## 导入包"
   ]
  },
  {
   "cell_type": "code",
   "execution_count": 8,
   "id": "fed5e57e",
   "metadata": {},
   "outputs": [],
   "source": [
    "import cv2\n",
    "import tkinter\n",
    "import pyzbar.pyzbar as pyzbar"
   ]
  },
  {
   "cell_type": "markdown",
   "id": "29353a3d",
   "metadata": {},
   "source": [
    "## 设置摄像头"
   ]
  },
  {
   "cell_type": "code",
   "execution_count": 9,
   "id": "db0ff804",
   "metadata": {},
   "outputs": [
    {
     "data": {
      "text/plain": [
       "True"
      ]
     },
     "execution_count": 9,
     "metadata": {},
     "output_type": "execute_result"
    }
   ],
   "source": [
    "# tkinter 包读取屏幕宽度和高度\n",
    "screen = tkinter.Tk()\n",
    "screen_width = screen.winfo_screenwidth()\n",
    "screen_height = screen.winfo_screenheight()\n",
    "\n",
    "# 使用笔记本前置摄像头\n",
    "camera = cv2.VideoCapture(0)\n",
    "\n",
    "# 根据屏幕大小设置相机的分辨率\n",
    "camera.set(3, screen_width * 2 / 3) \n",
    "camera.set(4, screen_height * 2 / 3)"
   ]
  },
  {
   "cell_type": "markdown",
   "id": "1a4ec450",
   "metadata": {},
   "source": [
    "## 定义颜色常量"
   ]
  },
  {
   "cell_type": "code",
   "execution_count": 10,
   "id": "f906bcd5",
   "metadata": {},
   "outputs": [],
   "source": [
    "# OpenCV 的颜色顺序是 (B, G, R)\n",
    "Blue = (255, 0, 0)\n",
    "Green = (0, 255, 0)\n",
    "Red = (0, 0, 255)"
   ]
  },
  {
   "cell_type": "markdown",
   "id": "2d621db8",
   "metadata": {},
   "source": [
    "## 定义收集链接的容器"
   ]
  },
  {
   "cell_type": "code",
   "execution_count": 11,
   "id": "93ed6208",
   "metadata": {},
   "outputs": [],
   "source": [
    "# 初始化为空\n",
    "link_map = set([])"
   ]
  },
  {
   "cell_type": "markdown",
   "id": "be2e7c06",
   "metadata": {},
   "source": [
    "## 定义画面预处理函数"
   ]
  },
  {
   "cell_type": "code",
   "execution_count": 12,
   "id": "c67c60ed",
   "metadata": {},
   "outputs": [],
   "source": [
    "# 求均值白平衡法\n",
    "def white_balance(img):\n",
    "    # 读取图像\n",
    "    b, g, r = cv2.split(img)\n",
    "    # 求各通道平均值\n",
    "    b_avg = cv2.mean(b)[0]\n",
    "    g_avg = cv2.mean(g)[0]\n",
    "    r_avg = cv2.mean(r)[0]\n",
    "    # 求各个通道所占增益\n",
    "    k = (r_avg + g_avg + b_avg) / 3\n",
    "    kb = k / b_avg\n",
    "    kg = k / g_avg\n",
    "    kr = k / r_avg\n",
    "    # 重新调整权重，生成新图像\n",
    "    r = cv2.addWeighted(src1=r, alpha=kr, src2=0, beta=0, gamma=0)\n",
    "    g = cv2.addWeighted(src1=g, alpha=kg, src2=0, beta=0, gamma=0)\n",
    "    b = cv2.addWeighted(src1=b, alpha=kb, src2=0, beta=0, gamma=0)\n",
    "    balance_img = cv2.merge([b, g, r])\n",
    "    return balance_img\n",
    "\n",
    "\n",
    "# 彩色图像进行自适应直方图均衡化\n",
    "def histogram_balance(img):\n",
    "    # RGB 转换到 YCrCb 空间\n",
    "    ycrcb = cv2.cvtColor(img, cv2.COLOR_BGR2YCR_CB)\n",
    "    # 将 YCrCb 图像通道分离\n",
    "    channels = cv2.split(ycrcb)\n",
    "    clahe = cv2.createCLAHE(clipLimit=2.0, tileGridSize=(8, 8))\n",
    "    clahe.apply(channels[0], channels[0])\n",
    "    # 对彩色图像进行直方图均衡化，先将彩色图像分解成若干通道，各通道分别进行直方图均衡化，再合并所有通道\n",
    "    cv2.merge(channels, ycrcb)\n",
    "    cv2.cvtColor(ycrcb, cv2.COLOR_YCR_CB2BGR, img)\n",
    "    return img\n",
    "\n",
    "# 图像锐化\n",
    "def unsharpen_mask(img): \n",
    "    # 原图的高斯模糊\n",
    "    blur = cv2.GaussianBlur(img, (5, 5), 1)\n",
    "    # 结果 = (a * 原图) + (b * 原图的高斯模糊)\n",
    "    # 需要满足其中a >= 1 && b <= 0 && a + b == 1\n",
    "    dst = cv2.addWeighted(img, 2, blur, -1, 0)\n",
    "    return dst\n",
    "        "
   ]
  },
  {
   "cell_type": "markdown",
   "id": "3f9dc03c",
   "metadata": {},
   "source": [
    "## 读取视频并识别二维码"
   ]
  },
  {
   "cell_type": "code",
   "execution_count": 13,
   "id": "429a6790",
   "metadata": {},
   "outputs": [],
   "source": [
    "while True:\n",
    "    # 按帧读取视频\n",
    "    successed, frame = camera.read()\n",
    "    # 除错，没读到画面就退出\n",
    "    if (successed == False):\n",
    "        print(\"Error: Can't read camera!\\n\")\n",
    "        break\n",
    "\n",
    "    # 白平衡、直方图均衡化处理、锐化\n",
    "    frame = white_balance(frame)\n",
    "    frame = histogram_balance(frame)\n",
    "    frame = unsharpen_mask(frame)\n",
    "    # 获取画面中心点\n",
    "    h1, w1 = frame.shape[0], frame.shape[1] \n",
    "    # 用 pyzbar 挑选出图像中所有二维码\n",
    "    codes = pyzbar.decode(frame)\n",
    "\n",
    "    # 对画面中的每个二维码都做出处理\n",
    "    for code in codes:\n",
    "        # 获取二维码的外接矩形顶点坐标\n",
    "        (x, y, w, h) = code.rect\n",
    "        # 获取二维码中心坐标\n",
    "        cx = int(x + w / 2)\n",
    "        cy = int(y + h / 2)\n",
    "        # 标识二维码中心\n",
    "        cv2.circle(frame, (cx, cy), 2, Red, 4)  \n",
    "        # 标识二维码外接矩形\n",
    "        cv2.rectangle(frame, (x, y), (x + w, y + h), Red, 2)  \n",
    "        # 标识二维码内容\n",
    "        code_text = code.data.decode('utf-8')\n",
    "        txt = '(' + code.type + ')  ' + code_text\n",
    "        cv2.putText(frame, txt, (x - 10, y - 10), cv2.FONT_ITALIC, 0.5, Green, 2)\n",
    "        # 二维码内容添加到容器中\n",
    "        link_map.add(code_text)\n",
    "        # 画面左上角标识二维码中心位置\n",
    "        cv2.putText(frame, 'Press ESC to exit. Found QRCode: ' + str((cx, cy)), (20, 20), cv2.FONT_ITALIC, 0.5, Blue, 2)\n",
    "\n",
    "    # 展示画面\n",
    "    cv2.imshow('Lab4', frame)\n",
    "\n",
    "    # 按 ESC 键退出\n",
    "    if cv2.waitKey(1) == 27: \n",
    "        break\n",
    "\n",
    "# 释放摄像头\n",
    "camera.release()\n",
    "# 关闭所有图像窗口\n",
    "cv2.destroyAllWindows()"
   ]
  },
  {
   "cell_type": "markdown",
   "id": "3e944459",
   "metadata": {},
   "source": [
    "## 显示所有检测到的二维码"
   ]
  },
  {
   "cell_type": "code",
   "execution_count": 14,
   "id": "319a82b5",
   "metadata": {},
   "outputs": [
    {
     "name": "stdout",
     "output_type": "stream",
     "text": [
      "INFO: Found 1 barcode(s): \n",
      "https://sayaka-4987.github.io/\n"
     ]
    }
   ],
   "source": [
    "print(\"INFO: Found {} barcode(s): \".format(len(link_map)))\n",
    "# 遍历容器\n",
    "for link in link_map:\n",
    "    print(\"{}\".format(link))"
   ]
  }
 ],
 "metadata": {
  "kernelspec": {
   "display_name": "Python 3.8.8 ('base')",
   "language": "python",
   "name": "python3"
  },
  "language_info": {
   "codemirror_mode": {
    "name": "ipython",
    "version": 3
   },
   "file_extension": ".py",
   "mimetype": "text/x-python",
   "name": "python",
   "nbconvert_exporter": "python",
   "pygments_lexer": "ipython3",
   "version": "3.8.8"
  },
  "vscode": {
   "interpreter": {
    "hash": "e42634819b8c191a5d07eaf23810ff32516dd8d3875f28ec3e488928fbd3c187"
   }
  }
 },
 "nbformat": 4,
 "nbformat_minor": 5
}
